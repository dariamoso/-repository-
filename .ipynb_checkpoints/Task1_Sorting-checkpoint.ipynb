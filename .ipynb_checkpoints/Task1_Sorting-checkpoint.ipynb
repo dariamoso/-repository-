{
 "cells": [
  {
   "cell_type": "code",
   "execution_count": 1,
   "id": "0526a3ac-bc8c-44e8-addb-cf835e54ab49",
   "metadata": {
    "tags": []
   },
   "outputs": [],
   "source": [
    "#Task1"
   ]
  },
  {
   "cell_type": "code",
   "execution_count": 2,
   "id": "082cad01-6e6d-4bf2-a658-11f1e7e2ca47",
   "metadata": {
    "tags": []
   },
   "outputs": [
    {
     "name": "stdin",
     "output_type": "stream",
     "text": [
      "a=  10\n",
      "b=  9\n",
      "c=  5\n"
     ]
    },
    {
     "name": "stdout",
     "output_type": "stream",
     "text": [
      "5 9 10\n"
     ]
    }
   ],
   "source": [
    "a=int(input('a= '))\n",
    "b=int(input('b= '))\n",
    "c=int(input('c= '))\n",
    "if a > b:\n",
    "    x = a\n",
    "    a = b\n",
    "    b = x\n",
    "if a > c:\n",
    "    x = a\n",
    "    a = c\n",
    "    c = x\n",
    "if b > c:\n",
    "    x = b\n",
    "    b = c\n",
    "    c = x  \n",
    "\n",
    "print(a, b, c)"
   ]
  }
 ],
 "metadata": {
  "kernelspec": {
   "display_name": "Python 3 (ipykernel)",
   "language": "python",
   "name": "python3"
  },
  "language_info": {
   "codemirror_mode": {
    "name": "ipython",
    "version": 3
   },
   "file_extension": ".py",
   "mimetype": "text/x-python",
   "name": "python",
   "nbconvert_exporter": "python",
   "pygments_lexer": "ipython3",
   "version": "3.10.9"
  }
 },
 "nbformat": 4,
 "nbformat_minor": 5
}
