{
 "cells": [
  {
   "cell_type": "code",
   "execution_count": 1,
   "id": "a69d86a5-137a-4962-b234-c7ce20ce4b5d",
   "metadata": {
    "tags": []
   },
   "outputs": [],
   "source": [
    "#Task2"
   ]
  },
  {
   "cell_type": "code",
   "execution_count": 4,
   "id": "7eed1596-370a-40cb-9dbd-13061d678cbb",
   "metadata": {
    "tags": []
   },
   "outputs": [
    {
     "name": "stdout",
     "output_type": "stream",
     "text": [
      "The number of string elements in the list is 4\n"
     ]
    }
   ],
   "source": [
    "listik = [99, \"Dasha\", True, False, \"smile\", \"lalala\", 8.5, \"another string\"]\n",
    "counter = 0\n",
    "for i in listik:\n",
    "    if type(i)==str:\n",
    "        counter+=1\n",
    "print(\"The number of string elements in the list is\", counter)\n"
   ]
  }
 ],
 "metadata": {
  "kernelspec": {
   "display_name": "Python 3 (ipykernel)",
   "language": "python",
   "name": "python3"
  },
  "language_info": {
   "codemirror_mode": {
    "name": "ipython",
    "version": 3
   },
   "file_extension": ".py",
   "mimetype": "text/x-python",
   "name": "python",
   "nbconvert_exporter": "python",
   "pygments_lexer": "ipython3",
   "version": "3.10.9"
  }
 },
 "nbformat": 4,
 "nbformat_minor": 5
}
